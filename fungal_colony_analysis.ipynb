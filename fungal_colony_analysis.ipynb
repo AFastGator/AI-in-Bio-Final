# Introduction

**Background:** *Diaporthe citri*, the causal agent of citrus melanose, is a hemi-biotrophic fungus that infects citrus and related genera. It produces raised, reddish-brown lesions on leaves, twigs, and fruit, which may coalesce under humid conditions to form large, cracked patches known as “mudcake” (Figure 1). This disease reduces citrus yield by causing premature fruit and leaf drop and diminishes the marketability of fresh fruit. While pruning dead wood—where the fungus reproduces—can limit spread, this method is labor-intensive. As a result, chemical controls like copper- and strobilurin-based fungicides are widely used, though they pose environmental and phytotoxic risks. Given the absence of resistant cultivars and increasing concerns over chemical inputs, alternative solutions such as biological control are gaining interest.

![D. citri Symptoms](images/Symptoms.png)

Biological control employs naturally occurring microbes to suppress plant pathogens through mechanisms such as antibiosis, competition, parasitism, and induced systemic resistance. Prior research highlights the potential of bacterial and fungal antagonists as sustainable tools in disease management.

# Materials and Methods for Data Acquisition

**Antagonism Assay and Image Acquisition:**  
To identify native bacterial isolates with antagonistic activity against *D. citri*, we screened 77 isolates collected from citrus tissue using in vitro dual-culture assays. After incubation, petri dishes were photographed inside a custom-built photobox (Smith & Schuster, 2021), which ensured high-resolution, standardized images by controlling lighting, minimizing reflections, and maintaining consistent camera placement.

**Manual Image Analysis:**  
All 274 images, including experimental assays and controls, were analyzed using Fiji (version 2.13.1) (Schindelin et al., 2012). Fungal colonies were manually outlined using the paintbrush tool (magenta, 20-pixel width), and a macro script was run in batch mode to calculate colony area. The script calibrated scale using a reference ruler image, thresholded the outlines, generated a binary mask, and computed area measurements (Figure 2). While this method is highly accurate, it is time-intensive—averaging 48 seconds per image, the analysis of the full dataset required nearly 3 hours and 40 minutes.

![Manual Image Analysis Workflow with FIJI](images/Manual_Workflow.png)

This led us to a central question: **Can we develop a machine learning algorithm to replace manual outlining and automate fungal area quantification—saving time while maintaining accuracy?**

